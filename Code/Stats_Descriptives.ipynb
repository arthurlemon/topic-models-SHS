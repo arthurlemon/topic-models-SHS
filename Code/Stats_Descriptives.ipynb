{
 "cells": [
  {
   "cell_type": "markdown",
   "metadata": {},
   "source": [
    "# Statistiques Descriptives concernant les 3 revues d'intérêt"
   ]
  },
  {
   "cell_type": "markdown",
   "metadata": {},
   "source": [
    "## **OBJECTIF GENERAL**"
   ]
  },
  {
   "cell_type": "markdown",
   "metadata": {},
   "source": [
    "\n",
    "**Cerner les caractéristiques essentielles du corpus avant d'appliquer des modèles d'analyse de texte.**"
   ]
  },
  {
   "cell_type": "markdown",
   "metadata": {},
   "source": [
    "## **OBJECTIFS SPECIFIQUES**"
   ]
  },
  {
   "cell_type": "markdown",
   "metadata": {},
   "source": [
    "**1) ARTICLE**"
   ]
  },
  {
   "cell_type": "markdown",
   "metadata": {},
   "source": [
    "- Type d'article (article, compte-rendu, note, autre)\n",
    "- Type de traitement (complet, aucun)\n",
    "- Taille moyenne (nombre de pages et nombre de tokens)\n",
    "- Nombre moyen de citations par article"
   ]
  },
  {
   "cell_type": "markdown",
   "metadata": {},
   "source": [
    "**2) REVUE**"
   ]
  },
  {
   "cell_type": "markdown",
   "metadata": {},
   "source": [
    "- Nombre d'articles en français\n",
    "- Période et Fréquence de publication\n",
    "- Nombre d'article en français par an"
   ]
  },
  {
   "cell_type": "markdown",
   "metadata": {},
   "source": [
    "**3) AUTEUR**"
   ]
  },
  {
   "cell_type": "markdown",
   "metadata": {},
   "source": [
    "- Nombre d'articles\n",
    "- Période de publication"
   ]
  },
  {
   "cell_type": "markdown",
   "metadata": {},
   "source": [
    "**4) TOKENS**"
   ]
  },
  {
   "cell_type": "markdown",
   "metadata": {},
   "source": [
    "- Nombre de tokens par article par an pour chaque revue"
   ]
  },
  {
   "cell_type": "markdown",
   "metadata": {},
   "source": [
    "------------------"
   ]
  },
  {
   "cell_type": "markdown",
   "metadata": {},
   "source": [
    "**Import Bibliothèques**"
   ]
  },
  {
   "cell_type": "code",
   "execution_count": null,
   "metadata": {},
   "outputs": [],
   "source": [
    "import matplotlib.pyplot as plt\n",
    "import numpy as np"
   ]
  },
  {
   "cell_type": "code",
   "execution_count": null,
   "metadata": {},
   "outputs": [],
   "source": [
    "# Récupération d'une liste de dictionnaire  pour chaque revue du type \n",
    "# {'texte' : texte article brut , 'metadata': {'title' : titre, 'typeart': , 'lang': , 'traitement': , 'annee': ,'info_auteurs': [(prenom, nom, affiliation)]}, 'URL': }\n",
    "\n",
    "%store -r Corpus_AE\n",
    "%store -r Corpus_EI\n",
    "%store -r Corpus_RI"
   ]
  },
  {
   "cell_type": "markdown",
   "metadata": {},
   "source": [
    "------------------"
   ]
  },
  {
   "cell_type": "markdown",
   "metadata": {},
   "source": [
    "### 0) PREPARATION CORPUS FILTRE ARTICLES EN FRANCAIS"
   ]
  },
  {
   "cell_type": "code",
   "execution_count": null,
   "metadata": {},
   "outputs": [],
   "source": [
    "def corpus_filtre(Corpus, tokens):\n",
    "    \"\"\"On retourne la liste de documents avec [0] : élément de corpus_AE et [1] : élément de tokens\"\"\"\n",
    "    Corpus_filtre = []\n",
    "    i=0\n",
    "    for element in Corpus:\n",
    "        if (element['metadata']['typeart'], element['metadata']['lang']) == ('article', 'fr'):\n",
    "            Corpus_filtre.append((element, tokens[i]))\n",
    "            i+=1\n",
    "    return Corpus_filtre"
   ]
  },
  {
   "cell_type": "code",
   "execution_count": null,
   "metadata": {},
   "outputs": [],
   "source": [
    "Corpus_filtre_AE = corpus_filtre(Corpus_AE,tokens_bigrams_Corpus_LDA_AE_clean)\n",
    "Corpus_filtre_EI = corpus_filtre(Corpus_EI,tokens_bigrams_Corpus_LDA_EI_clean)\n",
    "Corpus_filtre_RI = corpus_filtre(Corpus_RI, tokens_bigrams_Corpus_LDA_RI_clean)"
   ]
  },
  {
   "cell_type": "code",
   "execution_count": null,
   "metadata": {},
   "outputs": [],
   "source": [
    "len(Corpus_filtre_AE), len(Corpus_filtre_EI),len(Corpus_filtre_RI)"
   ]
  },
  {
   "cell_type": "markdown",
   "metadata": {},
   "source": [
    "------------------"
   ]
  },
  {
   "cell_type": "markdown",
   "metadata": {},
   "source": [
    "### 1) ARTICLE"
   ]
  },
  {
   "cell_type": "markdown",
   "metadata": {},
   "source": [
    "**TYPE DE TRAITEMENT**"
   ]
  },
  {
   "cell_type": "code",
   "execution_count": null,
   "metadata": {},
   "outputs": [],
   "source": [
    "def type_traitement (Corpus):\n",
    "    \"\"\"On retourne le type de traitement des articles pour chaque revue\"\"\"\n",
    "    dico_traitement = {'minimal':0, 'complet':0}\n",
    "    for element in Corpus:\n",
    "        if (element['metadata']['typeart'], element['metadata']['lang']) == ('article', 'fr'):\n",
    "            dico_traitement [element['metadata']['traitement']] += 1\n",
    "    return dico_traitement"
   ]
  },
  {
   "cell_type": "code",
   "execution_count": null,
   "metadata": {},
   "outputs": [],
   "source": [
    "type_traitement_AE = type_traitement(Corpus_AE)\n",
    "type_traitement_EI = type_traitement(Corpus_EI)\n",
    "type_traitement_RI = type_traitement(Corpus_RI)"
   ]
  },
  {
   "cell_type": "code",
   "execution_count": null,
   "metadata": {},
   "outputs": [],
   "source": [
    "print(type_traitement_AE, type_traitement_EI, type_traitement_RI)"
   ]
  },
  {
   "cell_type": "code",
   "execution_count": null,
   "metadata": {},
   "outputs": [],
   "source": [
    "revues = ['Actualité Économique', 'Études Internationales', 'Relations Industrielles']\n",
    "traitements = [[1351,822,1253],[183,272,119]]"
   ]
  },
  {
   "cell_type": "code",
   "execution_count": null,
   "metadata": {},
   "outputs": [],
   "source": [
    "X = np.arange(3)\n",
    "fig = plt.figure(figsize=(11,7))\n",
    "plt.xticks(np.arange(3), revues, fontsize=12)\n",
    "plt.bar(X + 0.00, traitements[0], color = 'k', label='minimal', width = 0.25)\n",
    "plt.bar(X + 0.25, traitements[1], color = 'burlywood', label='complet', width = 0.25)\n",
    "plt.legend()\n",
    "plt.ylabel('Nombre d\\'articles', fontsize=12)\n",
    "plt.savefig('Plots/Type traitement/traitement_trois_revues.png')\n",
    "plt.show()\n",
    "plt.close()"
   ]
  },
  {
   "cell_type": "markdown",
   "metadata": {},
   "source": [
    "**TAILLE MOYENNE**"
   ]
  },
  {
   "cell_type": "code",
   "execution_count": null,
   "metadata": {},
   "outputs": [],
   "source": [
    "%store -r tokens_bigrams_Corpus_LDA_RI_clean\n",
    "%store -r tokens_bigrams_Corpus_LDA_AE_clean\n",
    "%store -r tokens_bigrams_Corpus_LDA_EI_clean"
   ]
  },
  {
   "cell_type": "code",
   "execution_count": null,
   "metadata": {},
   "outputs": [],
   "source": [
    "longueurs = []\n",
    "for element in tokens_bigrams_Corpus_LDA_AE_clean:\n",
    "    longueurs.append(len(element))\n",
    "int(np.mean(np.array(longueurs)))"
   ]
  },
  {
   "cell_type": "code",
   "execution_count": null,
   "metadata": {},
   "outputs": [],
   "source": [
    "longueurs = []\n",
    "for element in tokens_bigrams_Corpus_LDA_EI_clean:\n",
    "    longueurs.append(len(element))\n",
    "int(np.mean(np.array(longueurs)))"
   ]
  },
  {
   "cell_type": "code",
   "execution_count": null,
   "metadata": {},
   "outputs": [],
   "source": [
    "longueurs = []\n",
    "for element in tokens_bigrams_Corpus_LDA_RI_clean:\n",
    "    longueurs.append(len(element))\n",
    "int(np.mean(np.array(longueurs)))"
   ]
  },
  {
   "cell_type": "markdown",
   "metadata": {},
   "source": [
    "------------------"
   ]
  },
  {
   "cell_type": "markdown",
   "metadata": {},
   "source": [
    "### 2) REVUE"
   ]
  },
  {
   "cell_type": "markdown",
   "metadata": {},
   "source": [
    "**NOMBRE D'ARTICLES EN FRANCAIS PAR AN**"
   ]
  },
  {
   "cell_type": "code",
   "execution_count": null,
   "metadata": {},
   "outputs": [],
   "source": [
    "def repartition_article_par_an (Corpus):\n",
    "    \"\"\"On retourne le nombre d'article publié pour chaque type d'article par an\"\"\"\n",
    "    repartition_article_par_an = {'article':{}, 'note':{}, 'compterendu':{}, 'autre':{}}\n",
    "    for element in Corpus:\n",
    "        if element['metadata']['lang'] == 'fr':\n",
    "            type_art, annee = element['metadata']['typeart'], element['metadata']['annee']\n",
    "            if annee in repartition_article_par_an[type_art] : \n",
    "                repartition_article_par_an[type_art][annee] += 1\n",
    "            else : repartition_article_par_an [type_art][annee] = 1\n",
    "    return repartition_article_par_an"
   ]
  },
  {
   "cell_type": "code",
   "execution_count": null,
   "metadata": {},
   "outputs": [],
   "source": [
    "repartition_par_an_AE = repartition_article_par_an(Corpus_AE)\n",
    "repartition_par_an_EI= repartition_article_par_an(Corpus_EI)\n",
    "repartition_par_an_RI = repartition_article_par_an(Corpus_RI)"
   ]
  },
  {
   "cell_type": "code",
   "execution_count": null,
   "metadata": {},
   "outputs": [],
   "source": [
    "import numpy as np\n",
    "import matplotlib.pyplot as plt\n",
    "def plot_repartition_par_an (repartition_par_an, initiales = 'AE', typeart = 'article',title=False, save=True):\n",
    "    fig = plt.figure(figsize=(10,5))\n",
    "    lists = sorted(repartition_par_an[typeart].items())\n",
    "    x, y = zip(*lists) \n",
    "    plt.xticks(np.arange(0, 100, step=10), fontsize=14)\n",
    "    plt.yticks (fontsize=14)\n",
    "    plt.bar(x, y,color = 'k')\n",
    "    plt.xlabel('Année de publication', fontsize=20)\n",
    "    plt.ylabel('Nombre d\\'articles',fontsize=20)\n",
    "    if title: plt.title('Répartition du nombre d\\'articles utilisés par an pour la revue ' + initiales + ' pour les articles de type ' + typeart)\n",
    "    #plt.title(initiales, fontsize=40)\n",
    "    if save: fig.savefig('Plots/Nombre articles/nb_articles_' + initiales + '_' + typeart + \".png\")\n",
    "    plt.show()\n",
    "    plt.close()"
   ]
  },
  {
   "cell_type": "code",
   "execution_count": null,
   "metadata": {},
   "outputs": [],
   "source": [
    "plot_repartition_par_an(repartition_par_an_AE, initiales='AE', typeart = 'article')\n",
    "plot_repartition_par_an(repartition_par_an_EI, initiales='EI', typeart = 'article')\n",
    "plot_repartition_par_an(repartition_par_an_RI, initiales='RI', typeart = 'article')\n",
    "#plot_repartition_par_an(repartition_par_an_AE, initiales='AE',typeart = 'note')\n",
    "#plot_repartition_par_an(repartition_par_an_AE, initiales='AE', typeart = 'compterendu')\n",
    "#plot_repartition_par_an(repartition_par_an_AE, initiales='AE', typeart = 'autre')"
   ]
  },
  {
   "cell_type": "code",
   "execution_count": null,
   "metadata": {},
   "outputs": [],
   "source": [
    "plot_repartition_par_an(repartition_par_an_EI, initiales='EI', typeart = 'article')\n",
    "plot_repartition_par_an(repartition_par_an_EI, initiales='EI',typeart = 'note')\n",
    "plot_repartition_par_an(repartition_par_an_EI, initiales='EI', typeart = 'compterendu')\n",
    "plot_repartition_par_an(repartition_par_an_EI, initiales='EI', typeart = 'autre')"
   ]
  },
  {
   "cell_type": "code",
   "execution_count": null,
   "metadata": {},
   "outputs": [],
   "source": [
    "plot_repartition_par_an(repartition_par_an_RI, initiales='RI', typeart = 'article')\n",
    "plot_repartition_par_an(repartition_par_an_RI, initiales='RI',typeart = 'note')\n",
    "plot_repartition_par_an(repartition_par_an_RI, initiales='RI', typeart = 'compterendu')\n",
    "plot_repartition_par_an(repartition_par_an_RI, initiales='RI', typeart = 'autre')"
   ]
  },
  {
   "cell_type": "markdown",
   "metadata": {},
   "source": [
    "------------------"
   ]
  },
  {
   "cell_type": "markdown",
   "metadata": {},
   "source": [
    "### 3) AUTEUR"
   ]
  },
  {
   "cell_type": "markdown",
   "metadata": {},
   "source": [
    "**NOMBRE D'ARTICLES**"
   ]
  },
  {
   "cell_type": "code",
   "execution_count": null,
   "metadata": {},
   "outputs": [],
   "source": [
    "def dico_brut_auteurs (Corpus):\n",
    "    dico_brut_auteurs = {}\n",
    "    for element in Corpus:\n",
    "        try: \n",
    "            for auteur in element['metadata']['info_auteurs']:\n",
    "                try: \n",
    "                    prenom_nom = auteur[0] +'_' +auteur[1] \n",
    "                    if prenom_nom in dico_brut_auteurs : dico_brut_auteurs[prenom_nom] += 1\n",
    "                    else : dico_brut_auteurs[prenom_nom] = 1\n",
    "                except :\n",
    "                    pass\n",
    "        except:\n",
    "            pass\n",
    "    return dico_brut_auteurs"
   ]
  },
  {
   "cell_type": "code",
   "execution_count": null,
   "metadata": {},
   "outputs": [],
   "source": [
    "dico_brut_auteurs_AE = dico_brut_auteurs(Corpus_AE)\n",
    "dico_brut_auteurs_EI = dico_brut_auteurs(Corpus_EI)\n",
    "dico_brut_auteurs_RI = dico_brut_auteurs(Corpus_RI)"
   ]
  },
  {
   "cell_type": "code",
   "execution_count": null,
   "metadata": {},
   "outputs": [],
   "source": [
    "print(' Nombre total d\\'auteurs pour la revue AE : ', len(dico_brut_auteurs_AE), 'auteurs \\n',\n",
    "     'Nombre total d\\'auteurs pour la revue EI : ', len(dico_brut_auteurs_EI), 'auteurs \\n',\n",
    "     'Nombre total d\\'auteurs pour la revue RI : ', len(dico_brut_auteurs_RI), 'auteurs \\n')"
   ]
  },
  {
   "cell_type": "markdown",
   "metadata": {},
   "source": [
    "**Etude de la répartition du nombre d'articles publiés par auteur**"
   ]
  },
  {
   "cell_type": "code",
   "execution_count": null,
   "metadata": {},
   "outputs": [],
   "source": [
    "def repartition_nombre_articles(dico_brut_auteurs):\n",
    "    compte_nb_articles_par_auteur = {}\n",
    "    for element in dico_brut_auteurs:\n",
    "        if dico_brut_auteurs[element] in compte_nb_articles_par_auteur:\n",
    "            compte_nb_articles_par_auteur[dico_brut_auteurs[element]] +=1\n",
    "        else: compte_nb_articles_par_auteur[dico_brut_auteurs[element]] =1\n",
    "    return compte_nb_articles_par_auteur"
   ]
  },
  {
   "cell_type": "code",
   "execution_count": null,
   "metadata": {},
   "outputs": [],
   "source": [
    "repartition_nombre_articles_AE = repartition_nombre_articles(dico_brut_auteurs_AE)\n",
    "repartition_nombre_articles_EI = repartition_nombre_articles(dico_brut_auteurs_EI)\n",
    "repartition_nombre_articles_RI = repartition_nombre_articles(dico_brut_auteurs_RI)"
   ]
  },
  {
   "cell_type": "code",
   "execution_count": null,
   "metadata": {},
   "outputs": [],
   "source": [
    "def plot_articles_auteurs (repartition_nombre_articles, initiales = 'AE'):\n",
    "    fig = plt.figure(figsize=(10,5))\n",
    "    lists = sorted(repartition_nombre_articles.items())\n",
    "    x, y = zip(*lists) \n",
    "    plt.bar(x, y, color ='k')\n",
    "    plt.xlabel('Total d\\'articles publiés',fontsize=20)\n",
    "    plt.ylabel('Nombre d\\'auteurs',fontsize=20)\n",
    "    plt.xticks(fontsize=14)\n",
    "    plt.yticks(fontsize=14)\n",
    "    #plt.title('Fréquence d\\'articles publiés dans la revue ' + initiales)\n",
    "    plt.title(initiales,fontsize=40)\n",
    "    fig.savefig('Plots/Auteurs/repartition_articles_' + initiales + \".png\")\n",
    "    plt.show()\n",
    "    plt.close()"
   ]
  },
  {
   "cell_type": "code",
   "execution_count": null,
   "metadata": {},
   "outputs": [],
   "source": [
    "plot_articles_auteurs(repartition_nombre_articles_AE)"
   ]
  },
  {
   "cell_type": "code",
   "execution_count": null,
   "metadata": {},
   "outputs": [],
   "source": [
    "plot_articles_auteurs(repartition_nombre_articles_EI, initiales='EI')"
   ]
  },
  {
   "cell_type": "code",
   "execution_count": null,
   "metadata": {},
   "outputs": [],
   "source": [
    "plot_articles_auteurs(repartition_nombre_articles_RI, initiales='RI')"
   ]
  },
  {
   "cell_type": "markdown",
   "metadata": {},
   "source": [
    "**ETUDE NOMBRE D'ARTICLES PUBLIES PAR AUTEUR**"
   ]
  },
  {
   "cell_type": "markdown",
   "metadata": {},
   "source": [
    "**CHOIX METHODOLOGIQUE**"
   ]
  },
  {
   "cell_type": "markdown",
   "metadata": {},
   "source": [
    "On ne garde que les auteurs qui ont publié au moins 5 articles dans la revue."
   ]
  },
  {
   "cell_type": "code",
   "execution_count": null,
   "metadata": {},
   "outputs": [],
   "source": [
    "dico_brut_auteurs_AE_sup = {}\n",
    "for element in dico_brut_auteurs_AE:\n",
    "    if dico_brut_auteurs_AE[element] == 1:\n",
    "        dico_brut_auteurs_AE_sup[element] = dico_brut_auteurs_AE[element] "
   ]
  },
  {
   "cell_type": "code",
   "execution_count": null,
   "metadata": {},
   "outputs": [],
   "source": [
    "dico_brut_auteurs_EI_sup = {}\n",
    "for element in dico_brut_auteurs_EI:\n",
    "    if dico_brut_auteurs_EI[element] == 1:\n",
    "        dico_brut_auteurs_EI_sup[element] = dico_brut_auteurs_EI[element] "
   ]
  },
  {
   "cell_type": "code",
   "execution_count": null,
   "metadata": {},
   "outputs": [],
   "source": [
    "dico_brut_auteurs_RI_sup = {}\n",
    "for element in dico_brut_auteurs_RI:\n",
    "    if dico_brut_auteurs_RI[element] == 1:\n",
    "        dico_brut_auteurs_RI_sup[element] = dico_brut_auteurs_RI[element] "
   ]
  },
  {
   "cell_type": "code",
   "execution_count": null,
   "metadata": {},
   "outputs": [],
   "source": [
    "import numpy as np\n",
    "def plot_articles_auteurs (dico_brut_auteurs, initiales = 'AE'):\n",
    "    fig = plt.figure(figsize=(20,10))\n",
    "    lists = sorted(dico_brut_auteurs.items())\n",
    "    x, y = zip(*lists) \n",
    "    plt.xticks(rotation=90)\n",
    "    plt.bar(x, y)\n",
    "    plt.xlabel('Auteur')\n",
    "    plt.ylabel('Nombre d\\'articles publiés')\n",
    "    plt.title('Nombre d\\'articles publiés par chaque auteur pour la revue ' + initiales)\n",
    "    fig.savefig(plot_directory +'/Auteurs/nb_articles_fr_' + initiales + \".png\")\n",
    "    plt.show()\n",
    "    plt.close()"
   ]
  },
  {
   "cell_type": "code",
   "execution_count": null,
   "metadata": {},
   "outputs": [],
   "source": [
    "plot_articles_auteurs(dico_brut_auteurs_AE_sup)"
   ]
  },
  {
   "cell_type": "code",
   "execution_count": null,
   "metadata": {},
   "outputs": [],
   "source": [
    "plot_articles_auteurs(dico_brut_auteurs_EI_sup, initiales='EI')"
   ]
  },
  {
   "cell_type": "markdown",
   "metadata": {},
   "source": [
    "**PERIODE DE PUBLICATION**"
   ]
  },
  {
   "cell_type": "code",
   "execution_count": null,
   "metadata": {},
   "outputs": [],
   "source": [
    "plot_articles_auteurs(dico_brut_auteurs_RI_sup, initiales='RI')"
   ]
  },
  {
   "cell_type": "markdown",
   "metadata": {},
   "source": [
    "Visuellement, il n'y a pas l'air d'avoir d'erreur sur des amibiguités d'auteurs"
   ]
  },
  {
   "cell_type": "code",
   "execution_count": null,
   "metadata": {},
   "outputs": [],
   "source": [
    "print(' Nombre total d\\'auteurs ayant écrit plus de 5 articles pour la revue AE : ', len(dico_brut_auteurs_AE_sup), 'auteurs \\n',\n",
    "     'Nombre total d\\'auteurs ayant écrit plus de 5 articles pour la revue EI : ', len(dico_brut_auteurs_EI_sup), 'auteurs \\n',\n",
    "     'Nombre total d\\'auteurs ayant écrit plus de 5 articles pour la revue RI : ', len(dico_brut_auteurs_RI_sup), 'auteurs \\n')"
   ]
  },
  {
   "cell_type": "markdown",
   "metadata": {},
   "source": [
    "**d) Nombre moyen d'auteurs par article de type article**"
   ]
  },
  {
   "cell_type": "markdown",
   "metadata": {},
   "source": [
    " NB : manque information auteur pour beaucoup d'articles !"
   ]
  },
  {
   "cell_type": "code",
   "execution_count": null,
   "metadata": {},
   "outputs": [],
   "source": [
    "def nombre_auteur_par_an (Corpus_filtre):\n",
    "    \"\"\"On retourne le nombre d'article publié pour les articles de type article\"\"\"\n",
    "    repartition_article_par_an = {}\n",
    "    compteur_annee = {} #compte le nombre d'article par an pour calculer la moyenne\n",
    "    exceptions = 0\n",
    "    for element in Corpus_filtre:\n",
    "        if element[0]['typeart'] == 'article':\n",
    "            try :\n",
    "                nb_auteurs, annee = len(element[0]['info_auteurs']), element[0]['annee']\n",
    "                if annee in repartition_article_par_an : \n",
    "                    repartition_article_par_an[annee] += nb_auteurs\n",
    "                    compteur_annee[annee] += 1\n",
    "                else : \n",
    "                    repartition_article_par_an [annee] = nb_auteurs\n",
    "                    compteur_annee[annee] =1\n",
    "            except: \n",
    "                exceptions +=1\n",
    "    # Calcul du nombre moyen de co-auteur par article par année\n",
    "    for annee in repartition_article_par_an:\n",
    "         repartition_article_par_an[annee] /= compteur_annee[annee] \n",
    "    print (exceptions)\n",
    "    return repartition_article_par_an"
   ]
  },
  {
   "cell_type": "code",
   "execution_count": null,
   "metadata": {},
   "outputs": [],
   "source": [
    "nombre_auteur_par_an_AE = nombre_auteur_par_an(Corpus_AE_fr)\n",
    "nombre_auteur_par_an_EI = nombre_auteur_par_an(Corpus_EI_fr)\n",
    "nombre_auteur_par_an_RI = nombre_auteur_par_an(Corpus_RI_fr)"
   ]
  },
  {
   "cell_type": "code",
   "execution_count": null,
   "metadata": {},
   "outputs": [],
   "source": [
    "def plot_auteur_par_an (nombre_auteur_par_an_AE, initiales = 'AE'):\n",
    "    fig = plt.figure(figsize=(10,8))\n",
    "    lists = sorted(nombre_auteur_par_an_AE.items())\n",
    "    x, y = zip(*lists) \n",
    "    plt.xticks(np.arange(0, 100, step=10))\n",
    "    plt.bar(x, y)\n",
    "    plt.xlabel('Année de publication')\n",
    "    plt.ylabel('Nombre moyen de co-auteur')\n",
    "    plt.title('Répartition du nombre moyen de co-auteur par an pour la revue ' + initiales)\n",
    "    fig.savefig(plot_directory +'/Auteurs/nb_coauteur_' + initiales + \".png\")\n",
    "    plt.show()\n",
    "    plt.close()"
   ]
  },
  {
   "cell_type": "code",
   "execution_count": null,
   "metadata": {},
   "outputs": [],
   "source": [
    "plot_auteur_par_an(nombre_auteur_par_an_AE, initiales='AE')\n",
    "plot_auteur_par_an(nombre_auteur_par_an_EI, initiales='EI')\n",
    "plot_auteur_par_an(nombre_auteur_par_an_RI, initiales='RI')"
   ]
  },
  {
   "cell_type": "markdown",
   "metadata": {},
   "source": [
    "------------------"
   ]
  },
  {
   "cell_type": "markdown",
   "metadata": {},
   "source": [
    "### **4) TOKENS**"
   ]
  },
  {
   "cell_type": "markdown",
   "metadata": {},
   "source": [
    "Nombre de tokens par article par an pour chaque revue"
   ]
  },
  {
   "cell_type": "markdown",
   "metadata": {},
   "source": [
    "**a) Répartition du nombre total de tokens par an**"
   ]
  },
  {
   "cell_type": "code",
   "execution_count": null,
   "metadata": {},
   "outputs": [],
   "source": [
    "def compte_tokens_par_an (Corpus_filtre):\n",
    "    \"\"\"On compte les tokens pour chaque article en fonction de l'année\"\"\"\n",
    "    tokens_par_annee = {}\n",
    "    for element in Corpus_filtre:\n",
    "        annee = element[0]['metadata']['annee']\n",
    "        if annee in tokens_par_annee : \n",
    "            tokens_par_annee[annee] += len(element[1])\n",
    "        else : tokens_par_annee [annee] = len(element[1])\n",
    "    return tokens_par_annee"
   ]
  },
  {
   "cell_type": "code",
   "execution_count": null,
   "metadata": {},
   "outputs": [],
   "source": [
    "tokens_par_annee_AE = compte_tokens_par_an(Corpus_filtre_AE)\n",
    "tokens_par_annee_EI = compte_tokens_par_an(Corpus_filtre_EI)\n",
    "tokens_par_annee_RI = compte_tokens_par_an(Corpus_filtre_RI)"
   ]
  },
  {
   "cell_type": "code",
   "execution_count": null,
   "metadata": {},
   "outputs": [],
   "source": [
    "import numpy as np\n",
    "import matplotlib.pyplot as plt\n",
    "def plot_tokens_par_an (tokens_par_annee, initiales = 'AE',title=False):\n",
    "    fig = plt.figure(figsize=(10,5))\n",
    "    lists = sorted(tokens_par_annee.items())\n",
    "    x, y = zip(*lists) \n",
    "    plt.xticks(np.arange(0, 100, step=10),fontsize=14)\n",
    "    plt.yticks(fontsize=14)\n",
    "    plt.bar(x, y, color='burlywood')\n",
    "    plt.xlabel('Année de publication',fontsize=20)\n",
    "    plt.ylabel('Nombre total de tokens',fontsize=20)\n",
    "    if title: plt.title('Répartition du nombre de jetons utilisés par an pour la revue ' + initiales)\n",
    "    plt.title(initiales, fontsize=40)\n",
    "    fig.savefig('Plots/Nombre tokens/nb_tokens_' + initiales + \".png\")\n",
    "    plt.show()\n",
    "    plt.close()"
   ]
  },
  {
   "cell_type": "code",
   "execution_count": null,
   "metadata": {},
   "outputs": [],
   "source": [
    "plot_tokens_par_an(tokens_par_annee_AE, initiales='AE')"
   ]
  },
  {
   "cell_type": "code",
   "execution_count": null,
   "metadata": {},
   "outputs": [],
   "source": [
    "plot_tokens_par_an(tokens_par_annee_EI, initiales='EI')"
   ]
  },
  {
   "cell_type": "code",
   "execution_count": null,
   "metadata": {},
   "outputs": [],
   "source": [
    "plot_tokens_par_an(tokens_par_annee_RI, initiales='RI')"
   ]
  }
 ],
 "metadata": {
  "kernelspec": {
   "display_name": "Python 3",
   "language": "python",
   "name": "python3"
  },
  "language_info": {
   "codemirror_mode": {
    "name": "ipython",
    "version": 3
   },
   "file_extension": ".py",
   "mimetype": "text/x-python",
   "name": "python",
   "nbconvert_exporter": "python",
   "pygments_lexer": "ipython3",
   "version": "3.6.8"
  }
 },
 "nbformat": 4,
 "nbformat_minor": 2
}
