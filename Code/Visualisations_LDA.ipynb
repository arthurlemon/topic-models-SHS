{
 "cells": [
  {
   "cell_type": "markdown",
   "metadata": {},
   "source": [
    "# VISUALISATION DES RESULTATS DES MODELES LDA"
   ]
  },
  {
   "cell_type": "markdown",
   "metadata": {},
   "source": [
    "## **OBJECTIF GENERAL**"
   ]
  },
  {
   "cell_type": "markdown",
   "metadata": {},
   "source": [
    "**Tester différentes méthodes de visualisation des résultats LDA**"
   ]
  },
  {
   "cell_type": "markdown",
   "metadata": {},
   "source": [
    "## **OBJECTIFS SPECIFIQUES**"
   ]
  },
  {
   "cell_type": "markdown",
   "metadata": {},
   "source": [
    "*ECHELLE CORPUS*\n",
    "- Visualiser l'importance relative des thèmes produits avec PyLDAvis\n",
    "- Visualiser chaque thème à l'aide de nuages de mots\n",
    "\n",
    "*ECHELLE ARTICLE*\n",
    "- Visualiser la proportion de chaque thème par document\n",
    "- Clustering des documents à l'aide des thèmes les composant"
   ]
  },
  {
   "cell_type": "markdown",
   "metadata": {},
   "source": [
    "**Récupération des bibliothèques et modèles**"
   ]
  },
  {
   "cell_type": "code",
   "execution_count": null,
   "metadata": {},
   "outputs": [],
   "source": [
    "import gensim\n",
    "from gensim import models, corpora, utils\n",
    "from gensim.models import LdaModel\n",
    "import json\n",
    "import numpy as np\n",
    "import time\n",
    "import pandas as pd\n",
    "from tqdm import tqdm\n",
    "from sklearn.manifold import TSNE\n",
    "\n",
    "# Bibliothèques de visualisation\n",
    "\n",
    "import pyLDAvis.gensim\n",
    "pyLDAvis.enable_notebook()\n",
    "import warnings\n",
    "warnings.filterwarnings(\"ignore\", category=DeprecationWarning) \n",
    "warnings.filterwarnings(\"ignore\", category=UserWarning) \n",
    "\n",
    "from matplotlib import pyplot as plt\n",
    "import matplotlib.colors as mcolors\n",
    "from wordcloud import WordCloud, STOPWORDS\n",
    "\n",
    "from bokeh.io import export_png\n",
    "from bokeh.plotting import figure, output_file, show\n",
    "from bokeh.models import Label\n",
    "from bokeh.io import output_notebook\n",
    "from bokeh.models import HoverTool, CustomJS, ColumnDataSource, Slider\n",
    "from bokeh.layouts import column\n",
    "from bokeh.palettes import all_palettes\n",
    "\n",
    "output_notebook()"
   ]
  },
  {
   "cell_type": "markdown",
   "metadata": {},
   "source": [
    "## Données pour AE"
   ]
  },
  {
   "cell_type": "code",
   "execution_count": null,
   "metadata": {},
   "outputs": [],
   "source": [
    "# liste de tokens pour chaque article\n",
    "%store -r tokens_bigrams_Corpus_LDA_AE_clean \n",
    "%store -r tokens_bigrams_Corpus_LDA_AE_clean_lemma "
   ]
  },
  {
   "cell_type": "markdown",
   "metadata": {},
   "source": [
    "**Sac de mots**"
   ]
  },
  {
   "cell_type": "code",
   "execution_count": null,
   "metadata": {},
   "outputs": [],
   "source": [
    "%store -r corpus_train_AE\n",
    "%store -r corpus_test_AE\n",
    "%store -r train_texts_AE\n",
    "%store -r dictionary_AE_2\n",
    "corpus_full_AE = corpus_train_AE + corpus_test_AE"
   ]
  },
  {
   "cell_type": "code",
   "execution_count": null,
   "metadata": {},
   "outputs": [],
   "source": [
    "# Modèles de 1 à 10 thèmes (incrément=10)\n",
    "num_topic=20\n",
    "model_ae_20 = LdaModel.load('Résultats_LDA/AE/lda_ae_'+ str(num_topic))"
   ]
  },
  {
   "cell_type": "code",
   "execution_count": null,
   "metadata": {},
   "outputs": [],
   "source": [
    "# Etude de fiabilité\n",
    "model_ae_10_0 = LdaModel.load('Résultats_LDA/Fiabilité/lda_ae_'+ str(10) +'_' + str(0))\n",
    "model_ae_10_1 = LdaModel.load('Résultats_LDA/Fiabilité/lda_ae_'+ str(10) +'_' + str(1))\n",
    "model_ae_10_2 = LdaModel.load('Résultats_LDA/Fiabilité/lda_ae_'+ str(10) +'_' + str(2))\n",
    "model_ae_10_3 = LdaModel.load('Résultats_LDA/Fiabilité/lda_ae_'+ str(10) +'_' + str(3))\n",
    "model_ae_10_4 = LdaModel.load('Résultats_LDA/Fiabilité/lda_ae_'+ str(10) +'_' + str(4))"
   ]
  },
  {
   "cell_type": "markdown",
   "metadata": {},
   "source": [
    "**Sac de mots avec lemmatisation**"
   ]
  },
  {
   "cell_type": "code",
   "execution_count": null,
   "metadata": {},
   "outputs": [],
   "source": [
    "%store -r train_texts_AE\n",
    "%store -r corpus_train_AE_lemma\n",
    "%store -r dictionary_AE_2_lemma "
   ]
  },
  {
   "cell_type": "code",
   "execution_count": null,
   "metadata": {},
   "outputs": [],
   "source": [
    "# Modèle sac de mots\n",
    "model_ae_10_lemma = LdaModel.load('Résultats_LDA/AE/lda_ae_lemma_'+ str(10))"
   ]
  },
  {
   "cell_type": "markdown",
   "metadata": {},
   "source": [
    "**Tf-idf**"
   ]
  },
  {
   "cell_type": "code",
   "execution_count": null,
   "metadata": {},
   "outputs": [],
   "source": [
    "%store -r corpus_train_AE_tfidf"
   ]
  },
  {
   "cell_type": "code",
   "execution_count": null,
   "metadata": {},
   "outputs": [],
   "source": [
    "# Modèles de 1 à 10 thèmes (incrément=1)\n",
    "model_ae_1_tfidf = LdaModel.load('Résultats_LDA/AE/lda_ae_tfidf'+ str(1))\n",
    "\n",
    "# Modèles de 10 à 100 thèmes (incrément=10)\n",
    "model_ae_20_tfidf = LdaModel.load('Résultats_LDA/AE/lda_ae_tfidf'+ str(20))\n"
   ]
  },
  {
   "cell_type": "markdown",
   "metadata": {},
   "source": [
    "**Tf-idf avec lemmatisation**"
   ]
  },
  {
   "cell_type": "code",
   "execution_count": null,
   "metadata": {},
   "outputs": [],
   "source": [
    "# Modèle tf-idf avec lemmatisation\n",
    "model_ae_10_tfidf_lemma = LdaModel.load('Résultats_LDA/AE/lda_ae_tfidf_lemma'+ str(10))"
   ]
  },
  {
   "cell_type": "markdown",
   "metadata": {},
   "source": [
    "## Données pour EI"
   ]
  },
  {
   "cell_type": "code",
   "execution_count": null,
   "metadata": {},
   "outputs": [],
   "source": [
    "# liste de tokens pour chaque article\n",
    "%store -r tokens_bigrams_Corpus_LDA_EI_clean \n",
    "#%store -r tokens_bigrams_Corpus_LDA_EI_clean_lemma "
   ]
  },
  {
   "cell_type": "markdown",
   "metadata": {},
   "source": [
    "**Sac de mots**"
   ]
  },
  {
   "cell_type": "code",
   "execution_count": null,
   "metadata": {},
   "outputs": [],
   "source": [
    "%store -r corpus_train_EI\n",
    "%store -r corpus_test_EI\n",
    "%store -r train_texts_EI\n",
    "%store -r dictionary_EI_2"
   ]
  },
  {
   "cell_type": "code",
   "execution_count": null,
   "metadata": {},
   "outputs": [],
   "source": [
    "corpus_full_EI = corpus_train_EI + corpus_test_EI"
   ]
  },
  {
   "cell_type": "code",
   "execution_count": null,
   "metadata": {},
   "outputs": [],
   "source": [
    "num_topic=10\n",
    "model_ei_10 = LdaModel.load('Résultats_LDA/EI/lda_ei_'+ str(num_topic))"
   ]
  },
  {
   "cell_type": "code",
   "execution_count": null,
   "metadata": {},
   "outputs": [],
   "source": [
    "# Etude de fiabilité\n",
    "model_ei_10_0 = LdaModel.load('Résultats_LDA/Fiabilité/lda_ei_'+ str(10) +'_' + str(0))\n",
    "model_ei_10_1 = LdaModel.load('Résultats_LDA/Fiabilité/lda_ei_'+ str(10) +'_' + str(1))\n",
    "model_ei_10_2 = LdaModel.load('Résultats_LDA/Fiabilité/lda_ei_'+ str(10) +'_' + str(2))\n",
    "model_ei_10_3 = LdaModel.load('Résultats_LDA/Fiabilité/lda_ei_'+ str(10) +'_' + str(3))\n",
    "model_ei_10_4 = LdaModel.load('Résultats_LDA/Fiabilité/lda_ei_'+ str(10) +'_' + str(4))"
   ]
  },
  {
   "cell_type": "markdown",
   "metadata": {},
   "source": [
    "**Sac de mots avec lemmatisation**"
   ]
  },
  {
   "cell_type": "code",
   "execution_count": null,
   "metadata": {},
   "outputs": [],
   "source": [
    "%store -r train_texts_EI\n",
    "%store -r corpus_train_EI_lemma\n",
    "%store -r dictionary_EI_2_lemma "
   ]
  },
  {
   "cell_type": "code",
   "execution_count": null,
   "metadata": {},
   "outputs": [],
   "source": [
    "# Modèle sac de mots\n",
    "model_ei_10_lemma = LdaModel.load('Résultats_LDA/EI/lda_ei_lemma_'+ str(10))"
   ]
  },
  {
   "cell_type": "markdown",
   "metadata": {},
   "source": [
    "**Tf-idf**"
   ]
  },
  {
   "cell_type": "code",
   "execution_count": null,
   "metadata": {},
   "outputs": [],
   "source": [
    "%store -r corpus_train_EI_tfidf"
   ]
  },
  {
   "cell_type": "code",
   "execution_count": null,
   "metadata": {},
   "outputs": [],
   "source": [
    "model_ei_10_tfidf = LdaModel.load('Résultats_LDA/EI/lda_ei_tfidf'+ str(10))"
   ]
  },
  {
   "cell_type": "markdown",
   "metadata": {},
   "source": [
    "**Tf-idf avec lemmatisation**"
   ]
  },
  {
   "cell_type": "code",
   "execution_count": null,
   "metadata": {},
   "outputs": [],
   "source": [
    "# Modèle tf-idf avec lemmatisation\n",
    "model_ei_10_tfidf_lemma = LdaModel.load('Résultats_LDA/EI/lda_ei_tfidf_lemma'+ str(10))"
   ]
  },
  {
   "cell_type": "markdown",
   "metadata": {},
   "source": [
    "## Données pour RI"
   ]
  },
  {
   "cell_type": "code",
   "execution_count": null,
   "metadata": {},
   "outputs": [],
   "source": [
    "# liste de tokens pour chaque article\n",
    "%store -r tokens_bigrams_Corpus_LDA_RI_clean \n",
    "#%store -r tokens_bigrams_Corpus_LDA_RI_clean_lemma "
   ]
  },
  {
   "cell_type": "markdown",
   "metadata": {},
   "source": [
    "**Sac de mots**"
   ]
  },
  {
   "cell_type": "code",
   "execution_count": null,
   "metadata": {},
   "outputs": [],
   "source": [
    "%store -r corpus_train_RI\n",
    "%store -r corpus_test_RI\n",
    "%store -r train_texts_RI\n",
    "%store -r dictionary_RI_2"
   ]
  },
  {
   "cell_type": "code",
   "execution_count": null,
   "metadata": {},
   "outputs": [],
   "source": [
    "corpus_full_RI = corpus_train_RI + corpus_test_RI"
   ]
  },
  {
   "cell_type": "code",
   "execution_count": null,
   "metadata": {},
   "outputs": [],
   "source": [
    "#num_topic=[70,80]\n",
    "model_ri_70 = LdaModel.load('Résultats_LDA/RI/lda_ri_'+ str(70))\n",
    "model_ri_80 = LdaModel.load('Résultats_LDA/RI/lda_ri_'+ str(80))"
   ]
  },
  {
   "cell_type": "code",
   "execution_count": null,
   "metadata": {},
   "outputs": [],
   "source": [
    "# Etude de fiabilité\n",
    "model_ri_10_0 = LdaModel.load('Résultats_LDA/Fiabilité/lda_ri_'+ str(10) +'_' + str(0))\n",
    "model_ri_10_1 = LdaModel.load('Résultats_LDA/Fiabilité/lda_ri_'+ str(10) +'_' + str(1))\n",
    "model_ri_10_2 = LdaModel.load('Résultats_LDA/Fiabilité/lda_ri_'+ str(10) +'_' + str(2))\n",
    "model_ri_10_3 = LdaModel.load('Résultats_LDA/Fiabilité/lda_ri_'+ str(10) +'_' + str(3))\n",
    "model_ri_10_4 = LdaModel.load('Résultats_LDA/Fiabilité/lda_ri_'+ str(10) +'_' + str(4))"
   ]
  },
  {
   "cell_type": "markdown",
   "metadata": {},
   "source": [
    "**Sac de mots avec lemmatisation**"
   ]
  },
  {
   "cell_type": "code",
   "execution_count": null,
   "metadata": {},
   "outputs": [],
   "source": [
    "%store -r train_texts_RI\n",
    "%store -r corpus_train_RI_lemma\n",
    "%store -r dictionary_RI_2_lemma "
   ]
  },
  {
   "cell_type": "code",
   "execution_count": null,
   "metadata": {},
   "outputs": [],
   "source": [
    "# Modèle sac de mots\n",
    "model_ri_10_lemma = LdaModel.load('Résultats_LDA/lda_ri_lemma_'+ str(10))"
   ]
  },
  {
   "cell_type": "markdown",
   "metadata": {},
   "source": [
    "**Tf-idf**"
   ]
  },
  {
   "cell_type": "code",
   "execution_count": null,
   "metadata": {},
   "outputs": [],
   "source": [
    "%store -r corpus_train_RI_tfidf"
   ]
  },
  {
   "cell_type": "code",
   "execution_count": null,
   "metadata": {},
   "outputs": [],
   "source": [
    "model_ri_10_tfidf = LdaModel.load('Résultats_LDA/RI/lda_ri_tfidf'+ str(10))"
   ]
  },
  {
   "cell_type": "markdown",
   "metadata": {},
   "source": [
    "**Tf-idf avec lemmatisation**"
   ]
  },
  {
   "cell_type": "code",
   "execution_count": null,
   "metadata": {},
   "outputs": [],
   "source": [
    "# Modèle tf-idf avec lemmatisation\n",
    "model_ri_10_tfidf_lemma = LdaModel.load('Résultats_LDA/lda_ri_tfidf_lemma'+ str(10))"
   ]
  },
  {
   "cell_type": "markdown",
   "metadata": {},
   "source": [
    "## 1) **ANALYSE CORPUS : THEMES ET JETONS**"
   ]
  },
  {
   "cell_type": "markdown",
   "metadata": {},
   "source": [
    "**PYLDAVIS**"
   ]
  },
  {
   "cell_type": "code",
   "execution_count": null,
   "metadata": {},
   "outputs": [],
   "source": [
    "pyLDAvis.show(pyLDAvis.gensim.prepare(model_ae_20_tfidf, corpus_train_AE_tfidf, dictionary_AE_2))"
   ]
  },
  {
   "cell_type": "code",
   "execution_count": null,
   "metadata": {},
   "outputs": [],
   "source": [
    "pyLDAvis.show(pyLDAvis.gensim.prepare(model_ri_80, corpus_train_RI, dictionary_RI_2))"
   ]
  },
  {
   "cell_type": "markdown",
   "metadata": {},
   "source": [
    "**SHOW TOPIC LDA** \n",
    "\n",
    "Analyse des poids des mots attribués par le modèle"
   ]
  },
  {
   "cell_type": "code",
   "execution_count": null,
   "metadata": {},
   "outputs": [],
   "source": [
    "topic = 10\n",
    "path = 'Résultats_LDA/AE/lda_ae_'\n",
    "#path = 'Résultats_LDA/AE/lda_ae_lemma_'\n",
    "#path = 'Résultats_LDA/AE/lda_ae_tfidf'\n",
    "#path = 'Résultats_LDA/AE/lda_ae_tfidf_lemma'"
   ]
  },
  {
   "cell_type": "code",
   "execution_count": null,
   "metadata": {},
   "outputs": [],
   "source": [
    "model = LdaModel.load(path+ str(topic))"
   ]
  },
  {
   "cell_type": "code",
   "execution_count": null,
   "metadata": {},
   "outputs": [],
   "source": [
    "model.show_topic(0)"
   ]
  },
  {
   "cell_type": "markdown",
   "metadata": {},
   "source": [
    "#### Etude du poids moyen des 10 premiers mots-clés de chaque thème"
   ]
  },
  {
   "cell_type": "markdown",
   "metadata": {},
   "source": [
    "**BUT**\n",
    "\n",
    "**Vérifier si poids reste constant : permet une certaine convergence des mots vs. attribution qui reste aléatoire**"
   ]
  },
  {
   "cell_type": "markdown",
   "metadata": {},
   "source": [
    "**METHODE**\n",
    "\n",
    "--> Récupérer un poids moyen pour chaque thème et tracer un courbe avec abscisse x = nombre de thèmes et ordonnée y = valeur moyenne des poids\n",
    "\n",
    "--> Tracer une courbe pour chaque configuration (sac de mot - tf-idf - lemma - pas lemma)"
   ]
  },
  {
   "cell_type": "code",
   "execution_count": null,
   "metadata": {},
   "outputs": [],
   "source": [
    "def get_top_weights (model):\n",
    "    \"\"\"Récupère la moyenne des poids des 10 mots clés prépondérants de chaque thème sous forme de liste\"\"\"\n",
    "    top_weights = []\n",
    "    for topic in range(model.num_topics):\n",
    "        top_weights.append(np.mean([element[1] for element in model.show_topic(topicid=topic)]))\n",
    "    return top_weights"
   ]
  },
  {
   "cell_type": "markdown",
   "metadata": {},
   "source": [
    "**Etude de la variabilité du poids pour chaque modèle : boîte à moustaches**"
   ]
  },
  {
   "cell_type": "code",
   "execution_count": null,
   "metadata": {},
   "outputs": [],
   "source": [
    "def get_top_weights_models (path):\n",
    "    \"\"\"Récupère la moyenne des poids des 10 mots clés prépondérants de chaque thème pour tous les modèles d'une revue sous forme de liste\"\"\"\n",
    "    top_weigths_models = {}\n",
    "    for topic in tqdm(num_topics):\n",
    "        model = LdaModel.load(path+ str(topic))\n",
    "        top_weigths_models[str(topic)] = get_top_weights(model)\n",
    "    return top_weigths_models"
   ]
  },
  {
   "cell_type": "code",
   "execution_count": null,
   "metadata": {},
   "outputs": [],
   "source": [
    "def plot_variabilité_weights (top_weights_models_bow, revue ='AE', forme='bow'):\n",
    "    fig = plt.figure(figsize=(17,8))\n",
    "    BoxName = [key for key in top_weights_models_AE_bow.keys()]\n",
    "    data = list(top_weights_models_bow.values())\n",
    "    plt.boxplot(data, patch_artist=False)\n",
    "    if forme =='bow' or forme == 'bow_lemma':\n",
    "        plt.ylim(0,0.05)\n",
    "    elif forme == 'tfidf' or forme =='tfidf_lemma':\n",
    "        plt.ylim(0,0.01)\n",
    "    plt.xticks([x for x in range(1,21,1)], BoxName)\n",
    "    plt.xticks(fontsize=14)\n",
    "    plt.yticks(fontsize=14)\n",
    "    plt.title(forme, fontsize=15)\n",
    "    plt.ylabel('Poids moyen attribué aux mots prépondérants de chaque thème',fontsize=14)\n",
    "    plt.savefig(\"Plots/LDA/poids_mots_clés/variabilité_\"+ revue + \"_\"+ forme +\".png\")\n",
    "    plt.show()"
   ]
  },
  {
   "cell_type": "markdown",
   "metadata": {},
   "source": [
    "**AE**"
   ]
  },
  {
   "cell_type": "code",
   "execution_count": null,
   "metadata": {},
   "outputs": [],
   "source": [
    "num_topics = [x for x in range(1,10)] + [x for x in range(10,110,10)]\n",
    "top_weights_models_AE_bow = get_top_weights_models (path ='Résultats_LDA/AE/lda_ae_')\n",
    "top_weights_models_AE_bow_lemma = get_top_weights_models (path ='Résultats_LDA/AE/lda_ae_lemma_')\n",
    "top_weights_models_AE_tfidf = get_top_weights_models (path ='Résultats_LDA/AE/lda_ae_tfidf')\n",
    "# Cas spécial pour tfidf + lemma\n",
    "num_topics = [x for x in range(1,10)]\n",
    "top_weights_models_AE_tfidf_lemma = get_top_weights_models (path = 'Résultats_LDA/AE/lda_ae_tfidf_lemma_')\n",
    "num_topics = [x for x in range(10,110,10)]\n",
    "top_weights_models_AE_tfidf_lemma_v2 = get_top_weights_models (path = 'Résultats_LDA/AE/lda_ae_tfidf_lemma')\n",
    "top_weights_models_AE_tfidf_lemma.update(top_weights_models_AE_tfidf_lemma_v2)"
   ]
  },
  {
   "cell_type": "code",
   "execution_count": null,
   "metadata": {},
   "outputs": [],
   "source": [
    "plot_variabilité_weights (top_weights_models_AE_bow, revue ='AE', forme='bow')\n",
    "plot_variabilité_weights (top_weights_models_AE_bow_lemma, revue ='AE', forme='bow_lemma')\n",
    "plot_variabilité_weights (top_weights_models_AE_tfidf, revue ='AE', forme='tfidf')\n",
    "plot_variabilité_weights (top_weights_models_AE_tfidf_lemma, revue ='AE', forme='tfidf_lemma')"
   ]
  },
  {
   "cell_type": "markdown",
   "metadata": {},
   "source": [
    "**EI**"
   ]
  },
  {
   "cell_type": "code",
   "execution_count": null,
   "metadata": {},
   "outputs": [],
   "source": [
    "num_topics = [x for x in range(1,10)] + [x for x in range(10,110,10)]\n",
    "top_weights_models_EI_bow = get_top_weights_models (path ='Résultats_LDA/EI/lda_ei_')\n",
    "top_weights_models_EI_bow_lemma = get_top_weights_models (path ='Résultats_LDA/EI/lda_ei_lemma_')\n",
    "top_weights_models_EI_tfidf = get_top_weights_models (path ='Résultats_LDA/EI/lda_ei_tfidf')\n",
    "# Cas spécial pour tfidf + lemma\n",
    "num_topics = [x for x in range(1,10)]\n",
    "top_weights_models_EI_tfidf_lemma = get_top_weights_models (path = 'Résultats_LDA/EI/lda_ei_tfidf_lemma_')\n",
    "num_topics = [x for x in range(10,110,10)]\n",
    "top_weights_models_EI_tfidf_lemma_v2 = get_top_weights_models (path = 'Résultats_LDA/EI/lda_ei_tfidf_lemma')\n",
    "top_weights_models_EI_tfidf_lemma.update(top_weights_models_EI_tfidf_lemma_v2)"
   ]
  },
  {
   "cell_type": "code",
   "execution_count": null,
   "metadata": {},
   "outputs": [],
   "source": [
    "plot_variabilité_weights (top_weights_models_EI_bow, revue ='EI', forme='bow')\n",
    "plot_variabilité_weights (top_weights_models_EI_bow_lemma, revue ='EI', forme='bow_lemma')\n",
    "plot_variabilité_weights (top_weights_models_EI_tfidf, revue ='EI', forme='tfidf')\n",
    "plot_variabilité_weights (top_weights_models_EI_tfidf_lemma, revue ='EI', forme='tfidf_lemma')"
   ]
  },
  {
   "cell_type": "markdown",
   "metadata": {},
   "source": [
    "**RI**"
   ]
  },
  {
   "cell_type": "code",
   "execution_count": null,
   "metadata": {},
   "outputs": [],
   "source": [
    "num_topics = [x for x in range(1,10)] + [x for x in range(10,110,10)]\n",
    "top_weights_models_RI_bow = get_top_weights_models (path ='Résultats_LDA/RI/lda_ri_')\n",
    "top_weights_models_RI_bow_lemma = get_top_weights_models (path ='Résultats_LDA/RI/lda_ri_lemma_')\n",
    "top_weights_models_RI_tfidf = get_top_weights_models (path ='Résultats_LDA/RI/lda_ri_tfidf')\n",
    "top_weights_models_RI_tfidf_lemma = get_top_weights_models (path = 'Résultats_LDA/RI/lda_ri_tfidf_lemma')"
   ]
  },
  {
   "cell_type": "code",
   "execution_count": null,
   "metadata": {},
   "outputs": [],
   "source": [
    "plot_variabilité_weights (top_weights_models_RI_bow, revue ='RI', forme='bow')\n",
    "plot_variabilité_weights (top_weights_models_RI_bow_lemma, revue ='RI', forme='bow_lemma')\n",
    "plot_variabilité_weights (top_weights_models_RI_tfidf, revue ='RI', forme='tfidf')\n",
    "plot_variabilité_weights (top_weights_models_RI_tfidf_lemma, revue ='RI', forme='tfidf_lemma')"
   ]
  },
  {
   "cell_type": "markdown",
   "metadata": {},
   "source": [
    "**Evolution de la moyenne des poids moyens attribués par chaque modèle de thème**"
   ]
  },
  {
   "cell_type": "code",
   "execution_count": null,
   "metadata": {},
   "outputs": [],
   "source": [
    "def get_model_top_weights (path):\n",
    "    \"\"\"Récupère la moyenne sur tous les thèmes de la moyenne des poids des 10 mots clés prépondérants pour chaque thème sous forme de dictionnaire\"\"\"\n",
    "    top_weigths_models = {}\n",
    "    for topic in tqdm(num_topics):\n",
    "        model = LdaModel.load(path+ str(topic))\n",
    "        top_weigths_models[str(topic)] = np.mean(get_top_weights(model))\n",
    "    return top_weigths_models"
   ]
  },
  {
   "cell_type": "code",
   "execution_count": null,
   "metadata": {},
   "outputs": [],
   "source": [
    "def plot_weigths (num_topics, bow, bow_lemma, tfidf, tfidf_lemma, revue ='AE'):    \n",
    "    fig = plt.figure(figsize=(15,8))\n",
    "    plt.plot(num_topics, list(bow.values()), 'kx', label = 'sac-de-mot', markersize=10)\n",
    "    plt.plot(num_topics, list(bow_lemma.values()), 'yx', label = 'sac-de-mot_lemma', markersize=10)\n",
    "    plt.plot(num_topics, list(tfidf.values()), 'ko', label = 'tfidf', markersize=10)\n",
    "    plt.plot(num_topics, list(tfidf_lemma.values()), 'yo', label = 'tfidf_lemma', markersize=10)\n",
    "    plt.legend(prop={'size': 18})\n",
    "    plt.xticks(fontsize=14)\n",
    "    plt.yticks(fontsize=14)\n",
    "    plt.xlabel('Nombre de thèmes',fontsize=20)\n",
    "    plt.ylabel('Poids moyen attribué à l\\'ensemble des thèmes d\\'un modèle',fontsize=14)\n",
    "    plt.title(revue,fontsize=40)\n",
    "    #plt.savefig(\"Plots/LDA/poids_mots_clés/\" + revue + \".png\")\n",
    "    plt.show()"
   ]
  },
  {
   "cell_type": "markdown",
   "metadata": {},
   "source": [
    "**AE**"
   ]
  },
  {
   "cell_type": "code",
   "execution_count": null,
   "metadata": {},
   "outputs": [],
   "source": [
    "num_topics = [x for x in range(1,10)] + [x for x in range(10,110,10)]\n",
    "top_weights_AE_bow = get_model_top_weights (path ='Résultats_LDA/AE/lda_ae_')"
   ]
  },
  {
   "cell_type": "code",
   "execution_count": null,
   "metadata": {},
   "outputs": [],
   "source": [
    "num_topics = [x for x in range(1,10)] + [x for x in range(10,110,10)]\n",
    "top_weights_AE_bow = get_model_top_weights (path ='Résultats_LDA/AE/lda_ae_')\n",
    "top_weights_AE_bow_lemma = get_model_top_weights (path ='Résultats_LDA/AE/lda_ae_lemma_')\n",
    "top_weights_AE_tfidf = get_model_top_weights (path ='Résultats_LDA/AE/lda_ae_tfidf')\n",
    "# Cas spécial pour tfidf + lemma\n",
    "num_topics = [x for x in range(1,10)]\n",
    "top_weights_AE_tfidf_lemma = get_model_top_weights (path = 'Résultats_LDA/AE/lda_ae_tfidf_lemma_')\n",
    "num_topics = [x for x in range(10,110,10)]\n",
    "top_weights_AE_tfidf_lemma_v2 = get_model_top_weights (path = 'Résultats_LDA/AE/lda_ae_tfidf_lemma')\n",
    "top_weights_AE_tfidf_lemma.update(top_weights_AE_tfidf_lemma_v2)"
   ]
  },
  {
   "cell_type": "code",
   "execution_count": null,
   "metadata": {},
   "outputs": [],
   "source": [
    "plot_weigths(num_topics = [x for x in range(1,10)] + [x for x in range(10,110,10)], \n",
    "             bow = top_weights_AE_bow, bow_lemma = top_weights_AE_bow_lemma,\n",
    "             tfidf = top_weights_AE_tfidf,tfidf_lemma = top_weights_AE_tfidf_lemma, revue ='AE')"
   ]
  },
  {
   "cell_type": "markdown",
   "metadata": {},
   "source": [
    "**EI**"
   ]
  },
  {
   "cell_type": "code",
   "execution_count": null,
   "metadata": {},
   "outputs": [],
   "source": [
    "num_topics = [x for x in range(1,10)] + [x for x in range(10,110,10)]\n",
    "top_weights_EI_bow = get_model_top_weights (path ='Résultats_LDA/EI/lda_ei_')\n",
    "top_weights_EI_bow_lemma = get_model_top_weights (path ='Résultats_LDA/EI/lda_ei_lemma_')\n",
    "top_weights_EI_tfidf = get_model_top_weights (path ='Résultats_LDA/EI/lda_ei_tfidf')\n",
    "# Cas spécial pour tfidf + lemma\n",
    "num_topics = [x for x in range(1,10)]\n",
    "top_weights_EI_tfidf_lemma = get_model_top_weights (path = 'Résultats_LDA/EI/lda_ei_tfidf_lemma_')\n",
    "num_topics = [x for x in range(10,110,10)]\n",
    "top_weights_EI_tfidf_lemma_v2 = get_model_top_weights (path = 'Résultats_LDA/EI/lda_ei_tfidf_lemma')\n",
    "top_weights_EI_tfidf_lemma.update(top_weights_EI_tfidf_lemma_v2)"
   ]
  },
  {
   "cell_type": "code",
   "execution_count": null,
   "metadata": {},
   "outputs": [],
   "source": [
    "plot_weigths(num_topics = [x for x in range(1,10)] + [x for x in range(10,110,10)], \n",
    "             bow = top_weights_EI_bow, bow_lemma = top_weights_EI_bow_lemma,\n",
    "             tfidf = top_weights_EI_tfidf,tfidf_lemma = top_weights_EI_tfidf_lemma, revue ='EI')"
   ]
  },
  {
   "cell_type": "markdown",
   "metadata": {},
   "source": [
    "**RI**"
   ]
  },
  {
   "cell_type": "code",
   "execution_count": null,
   "metadata": {},
   "outputs": [],
   "source": [
    "num_topics = [x for x in range(1,10)] + [x for x in range(10,110,10)]\n",
    "top_weights_RI_bow = get_model_top_weights (path ='Résultats_LDA/RI/lda_ri_')\n",
    "top_weights_RI_bow_lemma = get_model_top_weights (path ='Résultats_LDA/RI/lda_ri_lemma_')\n",
    "top_weights_RI_tfidf = get_model_top_weights (path ='Résultats_LDA/RI/lda_ri_tfidf')\n",
    "top_weights_RI_tfidf_lemma = get_model_top_weights (path = 'Résultats_LDA/RI/lda_ri_tfidf_lemma')"
   ]
  },
  {
   "cell_type": "code",
   "execution_count": null,
   "metadata": {},
   "outputs": [],
   "source": [
    "plot_weigths(num_topics = [x for x in range(1,10)] + [x for x in range(10,110,10)], \n",
    "             bow = top_weights_RI_bow, bow_lemma = top_weights_RI_bow_lemma,\n",
    "             tfidf = top_weights_RI_tfidf,tfidf_lemma = top_weights_RI_tfidf_lemma, revue ='RI')"
   ]
  },
  {
   "cell_type": "markdown",
   "metadata": {},
   "source": [
    "#### Stockage des résultats des thèmes dans un fichier excel"
   ]
  },
  {
   "cell_type": "markdown",
   "metadata": {},
   "source": [
    "1) Ecriture des mots-clés dans un dataframe panda"
   ]
  },
  {
   "cell_type": "code",
   "execution_count": null,
   "metadata": {},
   "outputs": [],
   "source": [
    "def format_topics(ldamodel):\n",
    "    # Init output\n",
    "    topics_df = pd.DataFrame()\n",
    "    for topic in range(ldamodel.num_topics):\n",
    "        topics = ldamodel.show_topic(topic)\n",
    "        topic_keywords = '\\n'.join([element[0] for element in topics])\n",
    "        topics_df = topics_df.append(pd.Series(topic_keywords), ignore_index=True)\n",
    "    \n",
    "    topics_df.columns = ['Mots-clés']\n",
    "    return(topics_df)"
   ]
  },
  {
   "cell_type": "code",
   "execution_count": null,
   "metadata": {},
   "outputs": [],
   "source": [
    "topic_df_40 = format_topics(ldamodel=model_ae_40)\n",
    "# Show (nombre de documents fixé)\n",
    "topic_df_40.head(10)"
   ]
  },
  {
   "cell_type": "markdown",
   "metadata": {},
   "source": [
    "2) Ecriture du dataframe dans feuille excel"
   ]
  },
  {
   "cell_type": "code",
   "execution_count": null,
   "metadata": {},
   "outputs": [],
   "source": [
    "#pip install XlsxWriter"
   ]
  },
  {
   "cell_type": "code",
   "execution_count": null,
   "metadata": {},
   "outputs": [],
   "source": [
    "path = 'Résultats_LDA/'"
   ]
  },
  {
   "cell_type": "markdown",
   "metadata": {},
   "source": [
    "**AE**"
   ]
  },
  {
   "cell_type": "code",
   "execution_count": null,
   "metadata": {},
   "outputs": [],
   "source": [
    "topic = 100\n",
    "#model = 'Résultats_LDA/AE/lda_ae_'\n",
    "#model = 'Résultats_LDA/AE/lda_ae_lemma_'\n",
    "model = 'Résultats_LDA/AE/lda_ae_tfidf'\n",
    "#model = 'Résultats_LDA/AE/lda_ae_tfidf_lemma'"
   ]
  },
  {
   "cell_type": "code",
   "execution_count": null,
   "metadata": {},
   "outputs": [],
   "source": [
    "test = pd.ExcelWriter(path + 'test_python_excel.xlsx', engine='xlsxwriter')\n",
    "model = LdaModel.load(model+ str(topic))\n",
    "topic_df = format_topics(ldamodel=model)\n",
    "topic_df.to_excel(test, 'Feuille')\n",
    "test.save()"
   ]
  },
  {
   "cell_type": "markdown",
   "metadata": {},
   "source": [
    "**EI**"
   ]
  },
  {
   "cell_type": "code",
   "execution_count": null,
   "metadata": {},
   "outputs": [],
   "source": [
    "topic = 100\n",
    "#model = 'Résultats_LDA/EI/lda_ei_'\n",
    "#model = 'Résultats_LDA/EI/lda_ei_lemma_'\n",
    "#model = 'Résultats_LDA/EI/lda_ei_tfidf'\n",
    "model = 'Résultats_LDA/EI/lda_ei_tfidf_lemma'"
   ]
  },
  {
   "cell_type": "code",
   "execution_count": null,
   "metadata": {},
   "outputs": [],
   "source": [
    "test = pd.ExcelWriter(path + 'test_python_excel.xlsx', engine='xlsxwriter')\n",
    "model = LdaModel.load(model+ str(topic))\n",
    "topic_df = format_topics(ldamodel=model)\n",
    "topic_df.to_excel(test, 'Feuille')\n",
    "test.save()"
   ]
  },
  {
   "cell_type": "markdown",
   "metadata": {},
   "source": [
    "**RI**"
   ]
  },
  {
   "cell_type": "code",
   "execution_count": null,
   "metadata": {},
   "outputs": [],
   "source": [
    "topic = 100\n",
    "#model = 'Résultats_LDA/RI/lda_ri_'\n",
    "#model = 'Résultats_LDA/RI/lda_ri_lemma_'\n",
    "#model = 'Résultats_LDA/RI/lda_ri_tfidf'\n",
    "model = 'Résultats_LDA/RI/lda_ri_tfidf_lemma'"
   ]
  },
  {
   "cell_type": "code",
   "execution_count": null,
   "metadata": {},
   "outputs": [],
   "source": [
    "test = pd.ExcelWriter(path + 'test_python_excel.xlsx', engine='xlsxwriter')\n",
    "model = LdaModel.load(model+ str(topic))\n",
    "topic_df = format_topics(ldamodel=model)\n",
    "topic_df.to_excel(test, 'Feuille')\n",
    "test.save()"
   ]
  },
  {
   "cell_type": "markdown",
   "metadata": {},
   "source": [
    "Remarque : pour des questions de mise en forme, je copie ensuite le contenu du fichier excel test dans le ficheir excel des résultats propres \"Etude comparée LDA\""
   ]
  },
  {
   "cell_type": "markdown",
   "metadata": {},
   "source": [
    "### **Nuages de mots**"
   ]
  },
  {
   "cell_type": "code",
   "execution_count": null,
   "metadata": {},
   "outputs": [],
   "source": [
    "def plot_cloud(lda_model, save=True, plot=True, revue='RI',size=(3,3,10)):\n",
    "    \n",
    "    cols = [color for name, color in mcolors.XKCD_COLORS.items()]\n",
    "    num_topics = lda_model.num_topics\n",
    "    cloud = WordCloud(stopwords=STOPWORDS, background_color='white', width=2500, height=1800, max_words=10, \n",
    "                      colormap='tab10', color_func=lambda *args, **kwargs: cols[i], prefer_horizontal=1.0)\n",
    "\n",
    "    topics = lda_model.show_topics(formatted=False, num_topics=num_topics)\n",
    "\n",
    "    fig, axes = plt.subplots(size[0], size[1], figsize=(size[2],size[2]), sharex=True, sharey=True)\n",
    "    \n",
    "    for i, ax in enumerate(axes.flatten()):\n",
    "        fig.add_subplot(ax)\n",
    "        topic_words = dict(topics[i][1])\n",
    "        cloud.generate_from_frequencies(topic_words, max_font_size=300)\n",
    "        plt.gca().imshow(cloud, interpolation=\"bilinear\")\n",
    "        plt.gca().set_title('Topic ' + str(i), fontdict=dict(size=16))\n",
    "        plt.gca().axis('off')\n",
    "    \n",
    "    plt.subplots_adjust(wspace=0, hspace=0)\n",
    "    plt.axis('off')\n",
    "    plt.margins(x=0, y=0)\n",
    "    plt.tight_layout()\n",
    "    \n",
    "    if save:\n",
    "        plt.savefig(\"Plots/LDA/nuages_mots/nuages_mots_\"+revue+'_num_topics='+str(num_topics))\n",
    "    if plot:\n",
    "        plt.show()\n",
    "    else:\n",
    "        plt.close()"
   ]
  },
  {
   "cell_type": "markdown",
   "metadata": {},
   "source": [
    "**AE**"
   ]
  },
  {
   "cell_type": "code",
   "execution_count": null,
   "metadata": {},
   "outputs": [],
   "source": [
    "plot_cloud(lda_model=model_ae_10, revue ='AE', save=True, plot=False, size=(2,5,15))"
   ]
  },
  {
   "cell_type": "code",
   "execution_count": null,
   "metadata": {},
   "outputs": [],
   "source": [
    "plot_cloud(lda_model=model_ae_20, revue ='AE', save=True, plot=False, size=(5,4,15))"
   ]
  },
  {
   "cell_type": "code",
   "execution_count": null,
   "metadata": {},
   "outputs": [],
   "source": [
    "plot_cloud(lda_model=model_ae_30, save=True, revue='AE', plot=False, size=(6,5,25))"
   ]
  },
  {
   "cell_type": "markdown",
   "metadata": {},
   "source": [
    "**EI**"
   ]
  },
  {
   "cell_type": "code",
   "execution_count": null,
   "metadata": {},
   "outputs": [],
   "source": [
    "plot_cloud(lda_model=model_ei_10, revue ='EI', save=True, plot=False, size=(2,5,15))"
   ]
  },
  {
   "cell_type": "code",
   "execution_count": null,
   "metadata": {},
   "outputs": [],
   "source": [
    "plot_cloud(lda_model=model_ei_20, revue ='EI', save=True, plot=False, size=(5,4,15))"
   ]
  },
  {
   "cell_type": "code",
   "execution_count": null,
   "metadata": {},
   "outputs": [],
   "source": [
    "plot_cloud(lda_model=model_ei_30, save=True, revue='EI', plot=False, size=(6,5,25))"
   ]
  },
  {
   "cell_type": "markdown",
   "metadata": {},
   "source": [
    "**RI**"
   ]
  },
  {
   "cell_type": "code",
   "execution_count": null,
   "metadata": {},
   "outputs": [],
   "source": [
    "plot_cloud(lda_model=model_ri_10, revue ='RI', save=True, plot=False, size=(2,5,15))"
   ]
  },
  {
   "cell_type": "code",
   "execution_count": null,
   "metadata": {},
   "outputs": [],
   "source": [
    "plot_cloud(lda_model=model_ri_20, revue ='RI', save=True, plot=False, size=(5,4,15))"
   ]
  },
  {
   "cell_type": "code",
   "execution_count": null,
   "metadata": {},
   "outputs": [],
   "source": [
    "plot_cloud(lda_model=model_ri_30, save=True, revue='RI', plot=False, size=(6,5,25))"
   ]
  },
  {
   "cell_type": "markdown",
   "metadata": {},
   "source": [
    "## 2)**ANALYSE PAR ARTICLE**"
   ]
  },
  {
   "cell_type": "markdown",
   "metadata": {},
   "source": [
    "### Répartition thème par document"
   ]
  },
  {
   "cell_type": "code",
   "execution_count": null,
   "metadata": {},
   "outputs": [],
   "source": [
    "def create_index(model, corpus):\n",
    "    \"\"\"Création d'un dictionnaire (index_topic:[prop pour chaque document du corpus])\"\"\"\n",
    "    topics = {0:[],1:[],2:[], 3:[],4:[],5:[],6:[],7:[],8:[],9:[]}\n",
    "    for document in model.get_document_topics(bow=corpus):\n",
    "        for i in range(10):\n",
    "            topics[i].append(0)\n",
    "        for n_topic, prop in document:  \n",
    "            topics[n_topic][-1] = prop\n",
    "    return topics\n",
    "\n",
    "def plot_topic_by_doc(topics,ind, revue='RI'):\n",
    "    plt.figure(figsize=(15,10))\n",
    "    plt.bar(ind, topics[0][:len(ind)], width=0.6, label='thème 1')\n",
    "    plt.bar(ind, topics[1][:len(ind)], width=0.6, label='thème 2')\n",
    "    plt.bar(ind, topics[2][:len(ind)], width=0.6, label='thème 3')\n",
    "    plt.bar(ind, topics[3][:len(ind)], width=0.6, label='thème 4')\n",
    "    plt.bar(ind, topics[4][:len(ind)], width=0.6, label='thème 5')\n",
    "    plt.bar(ind, topics[5][:len(ind)], width=0.6, label='thème 6')\n",
    "    plt.bar(ind, topics[6][:len(ind)], width=0.6, label='thème 7')\n",
    "    plt.bar(ind, topics[7][:len(ind)], width=0.6, label='thème 8')\n",
    "    plt.bar(ind, topics[8][:len(ind)], width=0.6, label='thème 9')\n",
    "    plt.bar(ind, topics[9][:len(ind)], width=0.6, label='thème 10')\n",
    "    plt.ylabel(\"Proportion des thèmes\", fontsize=20)\n",
    "    plt.xlabel(\"\",fontsize=20)\n",
    "    #plt.title('Distribution des thèmes par document pour la revue '+ revue)\n",
    "    plt.title(revue, fontsize=40)\n",
    "    plt.legend(loc='upper right')\n",
    "    plt.savefig('Plots/LDA/histogrammes_topic_document/'+revue+'.png')\n",
    "    plt.show()\n",
    "    plt.close()"
   ]
  },
  {
   "cell_type": "code",
   "execution_count": null,
   "metadata": {},
   "outputs": [],
   "source": [
    "topics_AE = create_index(model_ae_10,corpus_train_AE)"
   ]
  },
  {
   "cell_type": "code",
   "execution_count": null,
   "metadata": {},
   "outputs": [],
   "source": [
    "for document in model.get_document_topics(bow=corpus):\n",
    "    for i in range(10):\n",
    "        topics[i].append(0)\n",
    "    for n_topic, prop in document:  \n",
    "        topics[n_topic][-1] = prop"
   ]
  },
  {
   "cell_type": "code",
   "execution_count": null,
   "metadata": {},
   "outputs": [],
   "source": [
    "topics_EI = create_index(model_ei_10,corpus_train_EI)"
   ]
  },
  {
   "cell_type": "code",
   "execution_count": null,
   "metadata": {},
   "outputs": [],
   "source": [
    "topics_RI = create_index(model_ri_10,corpus_train_RI)"
   ]
  },
  {
   "cell_type": "markdown",
   "metadata": {},
   "source": [
    "Idée : comment choisir les documents à plotter ?"
   ]
  },
  {
   "cell_type": "code",
   "execution_count": null,
   "metadata": {},
   "outputs": [],
   "source": [
    "ind = [x for x in range(50)] # choix du nombre de documents à plotter"
   ]
  },
  {
   "cell_type": "code",
   "execution_count": null,
   "metadata": {},
   "outputs": [],
   "source": [
    "i = 0\n",
    "for document in corpus_ae_filtre[:50]:\n",
    "    print(i, ': ', document[1])\n",
    "    i+=1"
   ]
  },
  {
   "cell_type": "code",
   "execution_count": null,
   "metadata": {},
   "outputs": [],
   "source": [
    "plot_topic_by_doc(topics=topics_AE,revue='AE',ind=ind)"
   ]
  },
  {
   "cell_type": "code",
   "execution_count": null,
   "metadata": {},
   "outputs": [],
   "source": [
    "plot_topic_by_doc(topics=topics_EI,revue='EI',ind=ind)"
   ]
  },
  {
   "cell_type": "code",
   "execution_count": null,
   "metadata": {},
   "outputs": [],
   "source": [
    "plot_topic_by_doc(topics=topics_RI,revue='RI',ind=ind)"
   ]
  },
  {
   "cell_type": "markdown",
   "metadata": {},
   "source": [
    "### Visualisation du document le plus représentatif pour chaque thème"
   ]
  },
  {
   "cell_type": "code",
   "execution_count": null,
   "metadata": {},
   "outputs": [],
   "source": [
    "# Récupérer les articles en français, de type article et avec année de publication\n",
    "def filtre_corpus_metadata(Corpus, tokens,dictionary):\n",
    "    \"\"\"Prend en paramètre le Corpus avec textes et métadonnées et retourne un corpus du type \n",
    "       Output : liste du type [(URL,titre,tokens,BoW)]\"\"\"\n",
    "    Corpus_filtre = []\n",
    "    index_clean = 0\n",
    "    for index_document in tqdm(range(len(Corpus))) :\n",
    "    # on ne traite que les articles de type article et en français\n",
    "        if (Corpus[index_document]['metadata']['typeart'], Corpus[index_document]['metadata']['lang']) == ('article','fr') : \n",
    "            try :\n",
    "                Corpus_filtre.append((Corpus[index_document]['URL'], Corpus[index_document]['metadata']['title'],tokens[index_clean],dictionary.doc2bow(tokens[index_clean]))) \n",
    "            except:\n",
    "                Corpus_filtre = [(Corpus[index_document]['URL'], Corpus[index_document]['metadata']['title'],tokens[index_clean],dictionary.doc2bow(tokens[index_clean]))]\n",
    "            index_clean +=1\n",
    "    return Corpus_filtre"
   ]
  },
  {
   "cell_type": "code",
   "execution_count": null,
   "metadata": {},
   "outputs": [],
   "source": [
    "Corpus_AE = json.loads(open(\"Data/corpus_ae.json\", \"r\").read())\n",
    "corpus_ae_filtre = filtre_corpus_metadata(Corpus_AE, tokens_bigrams_Corpus_LDA_AE_clean,dictionary_AE_2)"
   ]
  },
  {
   "cell_type": "code",
   "execution_count": null,
   "metadata": {},
   "outputs": [],
   "source": [
    "Corpus_EI = json.loads(open(\"Data/corpus_ei.json\", \"r\").read())\n",
    "corpus_ei_filtre = filtre_corpus_metadata(Corpus_EI, tokens_bigrams_Corpus_LDA_EI_clean,dictionary_EI_2)"
   ]
  },
  {
   "cell_type": "code",
   "execution_count": null,
   "metadata": {},
   "outputs": [],
   "source": [
    "Corpus_RI = json.loads(open(\"Data/corpus_ri.json\", \"r\").read())\n",
    "corpus_ri_filtre = filtre_corpus_metadata(Corpus_RI, tokens_bigrams_Corpus_LDA_RI_clean,dictionary_RI_2)"
   ]
  },
  {
   "cell_type": "code",
   "execution_count": null,
   "metadata": {},
   "outputs": [],
   "source": [
    "def format_topics_sentences(ldamodel, corpus_filtre):\n",
    "    \"\"\"Retourne un tableau panda avec chaque ligne qui correspond à un document avec pour colonnes les infos suivantes :\n",
    "        - Thème majoritaire\n",
    "        - Poids du thème au sein du document\n",
    "        - Mots-clés du thème\n",
    "        - Tokens du document\n",
    "        - Titre du document\n",
    "        - URL du document\"\"\"\n",
    "    \n",
    "    sent_topics_df = pd.DataFrame()\n",
    "    \n",
    "    corpus = [element[3] for element in corpus_filtre]\n",
    "    tokens = [element[2] for element in corpus_filtre]\n",
    "    titres = [element[1] for element in corpus_filtre]\n",
    "    URLs = [element[0] for element in corpus_filtre]\n",
    "    \n",
    "    # Get main topic in each document\n",
    "    for i, row in enumerate(ldamodel[corpus]):\n",
    "        row = sorted(row, key=lambda x: (x[1]), reverse=True)\n",
    "        # Get the Dominant topic, Perc Contribution and Keywords for each document\n",
    "        for j, (topic_num, prop_topic) in enumerate(row):\n",
    "            if j == 0:  # => dominant topic\n",
    "                wp = ldamodel.show_topic(topic_num)\n",
    "                topic_keywords = \", \".join([word for word, prop in wp])\n",
    "                sent_topics_df = sent_topics_df.append(pd.Series([int(topic_num), round(prop_topic,4), topic_keywords]), ignore_index=True)\n",
    "            else:\n",
    "                break\n",
    "    \n",
    "    texts, titres, URLs = pd.Series(tokens), pd.Series(titres), pd.Series(URLs)\n",
    "    sent_topics_df = pd.concat([sent_topics_df, texts, titres,URLs], axis=1)\n",
    "    \n",
    "    return(sent_topics_df)\n",
    "\n",
    "def get_representative_documents(model, corpus=corpus_ae_filtre, print_= True):\n",
    "    \"\"\" Retourne un tableau panda avec chaque ligne qui correspond à un thème avec comme colonnes les mêmes infos que format_topics_sentences\n",
    "        \"\"\"\n",
    "    df_topic_sents_keywords = format_topics_sentences(ldamodel=model, corpus_filtre=corpus)\n",
    "    \n",
    "    sent_topics_sorteddf_mallet = pd.DataFrame()\n",
    "    sent_topics_outdf_grpd = df_topic_sents_keywords.groupby('Thème principal')\n",
    "\n",
    "    # Tri par thème dominant\n",
    "    for i, grp in sent_topics_outdf_grpd:\n",
    "        sent_topics_sorteddf_mallet = pd.concat([sent_topics_sorteddf_mallet, \n",
    "                                                 grp.sort_values(['% de contribution du thème'], ascending=[0]).head(1)], \n",
    "                                                axis=0)\n",
    "    # Reset Index    \n",
    "    sent_topics_sorteddf_mallet.reset_index(drop=True, inplace=True)\n",
    "    \n",
    "    # Format\n",
    "    sent_topics_sorteddf_mallet.columns = ['Topic_Num', '% de contribution du thème', \"Mots-clés\",'Text','Titre','URL']\n",
    "    \n",
    "    # Show\n",
    "    if print_== True:\n",
    "        sent_topics_sorteddf_mallet.head(model.num_topics)\n",
    "        \n",
    "    return sent_topics_sorteddf_mallet"
   ]
  },
  {
   "cell_type": "code",
   "execution_count": null,
   "metadata": {},
   "outputs": [],
   "source": [
    "#document_ae = format_topics_sentences_2(ldamodel=model_ae_10, corpus_filtre=corpus_ae_filtre)\n",
    "documents_majoritaires = get_representative_documents(model=model_ae_10, corpus=corpus_ae_filtre)"
   ]
  },
  {
   "cell_type": "code",
   "execution_count": null,
   "metadata": {},
   "outputs": [],
   "source": [
    "documents = get_representative_documents(model_ri_10,corpus_full_RI)"
   ]
  },
  {
   "cell_type": "code",
   "execution_count": null,
   "metadata": {},
   "outputs": [],
   "source": [
    "documents.head(10)"
   ]
  },
  {
   "cell_type": "markdown",
   "metadata": {},
   "source": [
    "## Clustering t-SNE des documents"
   ]
  },
  {
   "cell_type": "code",
   "execution_count": null,
   "metadata": {},
   "outputs": [],
   "source": [
    "def plot_tsne_lda(model, corpus, save=True, plot=True, revue='AE'):\n",
    "    \"\"\"Calcule puis trace la projection t-SNE 2D de la représentation LDA du corpus\"\"\"\n",
    "    # Poids des thèmes\n",
    "    topic_weights = []\n",
    "    for i, row_list in enumerate(model[corpus]):\n",
    "        topic_weights.append([w for i, w in row_list])\n",
    "\n",
    "    arr = pd.DataFrame(topic_weights).fillna(0).values\n",
    "\n",
    "    # Réduction t-SNE\n",
    "    tsne_model = TSNE(n_components=2, verbose=1, random_state=0, angle=.99, init='pca')\n",
    "    tsne_lda = tsne_model.fit_transform(arr)\n",
    "    embedding = pd.DataFrame(tsne_lda, columns=['x','y'])\n",
    "    embedding['hue'] = arr.argmax(axis=1)\n",
    "    \n",
    "    # Récupérer le thème dominant pour chaque document\n",
    "    topic_num = np.argmax(arr, axis=1)\n",
    "    \n",
    "    n_topics = model.num_topics\n",
    "    # Création du plot\n",
    "    \n",
    "    mycolors = np.array([color for name, color in mcolors.XKCD_COLORS.items()])\n",
    "    plot = figure(title=\"Clustering t-SNE de la revue {} avec {} LDA Topics\".format(revue, n_topics), \n",
    "                  plot_width=900, plot_height=700)\n",
    "    plot.scatter(x=tsne_lda[:,0], y=tsne_lda[:,1], color=mycolors[topic_num])\n",
    "    \n",
    "    if plot:\n",
    "        show(plot)\n",
    "    else :\n",
    "        plot.close()\n",
    "    if save:\n",
    "        export_png(plot, filename=\"Plots/LDA/clustering_tsne/tsne_\"+revue+'_num_topics='+ str(n_topics)+ \".png\")\n",
    "    \n",
    "    return embedding, tsne_lda"
   ]
  },
  {
   "cell_type": "markdown",
   "metadata": {},
   "source": [
    "**AE**"
   ]
  },
  {
   "cell_type": "code",
   "execution_count": null,
   "metadata": {},
   "outputs": [],
   "source": [
    "corpus = corpus_full_AE\n",
    "for topic in tqdm([10,20,30]):\n",
    "    model = LdaModel.load(\"Résultats_LDA/AE/lda_ae_\" + str(topic))\n",
    "    plot_tsne_lda(model, corpus, revue='AE', save=False,plot=True)"
   ]
  },
  {
   "cell_type": "markdown",
   "metadata": {},
   "source": [
    "**EI**"
   ]
  },
  {
   "cell_type": "code",
   "execution_count": null,
   "metadata": {},
   "outputs": [],
   "source": [
    "corpus = corpus_full_EI\n",
    "for topic in tqdm([10,20,30]):\n",
    "    model = LdaModel.load(\"Résultats_LDA/EI/lda_ei_\" + str(topic))\n",
    "    plot_tsne_lda(model, corpus, revue='EI', save=True,plot=False)"
   ]
  },
  {
   "cell_type": "markdown",
   "metadata": {},
   "source": [
    "**RI**"
   ]
  },
  {
   "cell_type": "code",
   "execution_count": null,
   "metadata": {},
   "outputs": [],
   "source": [
    "corpus = corpus_full_RI\n",
    "for topic in tqdm([10,20,30]):\n",
    "    model = LdaModel.load(\"Résultats_LDA/RI/lda_ri_\" + str(topic))\n",
    "    plot_tsne_lda(model, corpus, revue='RI', save=True,plot=False)"
   ]
  },
  {
   "cell_type": "markdown",
   "metadata": {},
   "source": [
    "**PLOT INTERACTIF AVEC TITRES DES DOCUMENTS SUR LE SCHEMA**"
   ]
  },
  {
   "cell_type": "code",
   "execution_count": null,
   "metadata": {},
   "outputs": [],
   "source": [
    "def plot_interactive_tsne (model, corpus = corpus_full_AE, corpus_filtre=corpus_ae_filtre, revue='AE', save=False):\n",
    "    # Formation du tableau de documents/thèmes\n",
    "    df = format_topics_sentences(ldamodel=model, corpus_filtre=corpus_filtre)\n",
    "    df_dominant_topic = df.reset_index()\n",
    "    df_dominant_topic.columns = ['index', 'Thème principal', '% de contribution du thème', 'Mots-clés du thème','Text','Titre','URL']\n",
    "    \n",
    "    # Calcul de la projection t-SNE\n",
    "    topic_weights = []\n",
    "    for i, row_list in enumerate(model[corpus]):\n",
    "        topic_weights.append([w for i, w in row_list])\n",
    "    arr = pd.DataFrame(topic_weights).fillna(0).values\n",
    "    tsne_model = TSNE(n_components=2, verbose=1, random_state=0, angle=.99, init='pca')\n",
    "    tsne_lda = tsne_model.fit_transform(arr)\n",
    "    embedding = pd.DataFrame(tsne_lda, columns=['x','y'])\n",
    "    embedding['hue'] = arr.argmax(axis=1)\n",
    "    \n",
    "    # Visualisation dans Bokeh\n",
    "    n_topics = model.num_topics\n",
    "    topic_num = np.argmax(arr, axis=1)\n",
    "    source = ColumnDataSource(\n",
    "        data=dict(\n",
    "            x = embedding.x,\n",
    "            y = embedding.y,\n",
    "            colors = np.array([color for name, color in mcolors.XKCD_COLORS.items()])[topic_num],\n",
    "            title = df_dominant_topic.Titre,\n",
    "            alpha = [0.9] * embedding.shape[0],\n",
    "            size = [9] * embedding.shape[0],\n",
    "        )\n",
    "    )\n",
    "    callback = CustomJS(args=dict(source=source), code=\"\"\"\n",
    "        var data = source.data;\n",
    "        var f = cb_obj.value\n",
    "        x = data['x']\n",
    "        y = data['y']\n",
    "        colors = data['colors']\n",
    "        alpha = data['alpha']\n",
    "        title = data['title']\n",
    "        size = data['size']\n",
    "        for (i = 0; i < x.length; i++) {\n",
    "            if (year[i] <= f) {\n",
    "                alpha[i] = 0.9\n",
    "                size[i] = 7\n",
    "            } else {\n",
    "                alpha[i] = 0.05\n",
    "                size[i] = 4\n",
    "            }\n",
    "        }\n",
    "        source.trigger('change');\n",
    "    \"\"\")\n",
    "\n",
    "    hover_tsne = HoverTool(names=[\"df_dominant_topic\"], tooltips=\"\"\"\n",
    "        <div style=\"margin: 10\">\n",
    "            <div style=\"margin: 0 auto; width:300px;\">\n",
    "                <span style=\"font-size: 12px; font-weight: bold;\">Title:</span>\n",
    "                <span style=\"font-size: 12px\">@title</span>\n",
    "            </div>\n",
    "        </div>\n",
    "        \"\"\")\n",
    "    tools_tsne = [hover_tsne, 'pan', 'wheel_zoom', 'reset']\n",
    "    plot_tsne = figure(title=\"Clustering t-SNE de la revue {} avec {} LDA Topics\".format(revue, n_topics), \n",
    "                      plot_width=700, plot_height=700, tools=tools_tsne)\n",
    "    plot_tsne.circle('x', 'y', size='size', fill_color='colors',\n",
    "                     alpha='alpha', line_alpha=0, line_width=0.01, source=source, name=\"df_dominant_topic\")\n",
    "\n",
    "    show(plot_tsne)\n",
    "    \n",
    "    if save:\n",
    "        export_png(plot_tsne, filename=\"Plots/LDA/clustering_tsne/tsne_\"+revue+'_num_topics='+ str(n_topics)+ \".png\")\n",
    "        \n",
    "    plt.close()"
   ]
  },
  {
   "cell_type": "code",
   "execution_count": null,
   "metadata": {},
   "outputs": [],
   "source": [
    "plot_interactive_tsne (model=model_ae_10, corpus=corpus_full_AE,corpus_filtre=corpus_ae_filtre, revue='AE', save=False)"
   ]
  },
  {
   "cell_type": "code",
   "execution_count": null,
   "metadata": {},
   "outputs": [],
   "source": [
    "for topic in range(10):\n",
    "    print([element[0] for element in model_ae_10.show_topic(topicid=topic)])"
   ]
  },
  {
   "cell_type": "code",
   "execution_count": null,
   "metadata": {},
   "outputs": [],
   "source": [
    "model_ei_10 = LdaModel.load(\"Résultats_LDA/EI/lda_ei_\" + str(10))"
   ]
  },
  {
   "cell_type": "code",
   "execution_count": null,
   "metadata": {},
   "outputs": [],
   "source": [
    "plot_interactive_tsne (model=model_ei_10, corpus=corpus_full_EI,corpus_filtre=corpus_ei_filtre, revue='EI', save=True)"
   ]
  },
  {
   "cell_type": "code",
   "execution_count": null,
   "metadata": {},
   "outputs": [],
   "source": [
    "for topic in range(10):\n",
    "    print([element[0] for element in model_ei_10.show_topic(topicid=topic)])"
   ]
  },
  {
   "cell_type": "code",
   "execution_count": null,
   "metadata": {},
   "outputs": [],
   "source": [
    "model_ri_10 = LdaModel.load(\"Résultats_LDA/RI/lda_ri_\" + str(10))"
   ]
  },
  {
   "cell_type": "code",
   "execution_count": null,
   "metadata": {},
   "outputs": [],
   "source": [
    "plot_interactive_tsne (model=model_ri_10, corpus=corpus_full_RI,corpus_filtre=corpus_ri_filtre, revue='RI', save=True)"
   ]
  },
  {
   "cell_type": "code",
   "execution_count": null,
   "metadata": {},
   "outputs": [],
   "source": [
    "for topic in range(10):\n",
    "    print([element[0] for element in model_ri_10.show_topic(topicid=topic)])"
   ]
  },
  {
   "cell_type": "markdown",
   "metadata": {},
   "source": [
    "## **Analyse manuelle de fréquence de tokens**"
   ]
  },
  {
   "cell_type": "code",
   "execution_count": null,
   "metadata": {},
   "outputs": [],
   "source": [
    "%store -r Corpus_AE\n",
    "%store -r tokens_bigrams_Corpus_LDA_AE_clean"
   ]
  },
  {
   "cell_type": "code",
   "execution_count": null,
   "metadata": {},
   "outputs": [],
   "source": [
    "Corpus_AE_LDA_metadata = filtre_corpus(Corpus_AE, tokens_bigrams_Corpus_LDA_AE_clean)"
   ]
  },
  {
   "cell_type": "code",
   "execution_count": null,
   "metadata": {},
   "outputs": [],
   "source": [
    "#### Récupérer les métadonnées et tokens pour les articles\n",
    "def filtre_corpus(Corpus, tokens):\n",
    "    \"\"\"Prend en paramètre le Corpus avec textes et métadonnées et retourne le Corpus filtré avec les articles en français et de type article\n",
    "    + les tokens nettoyés pour chacun d'entre eux\"\"\"\n",
    "    Corpus_filtre = []\n",
    "    index_clean = 0\n",
    "    for index_document in tqdm_notebook(range(len(Corpus))) :\n",
    "    # on ne traite que les articles de type article et en français\n",
    "        if (Corpus[index_document]['metadata']['typeart'], Corpus[index_document]['metadata']['lang']) == ('article','fr') : \n",
    "            Corpus_filtre.append((Corpus[index_document]['URL'], Corpus[index_document]['metadata']['title'], tokens[index_clean]))\n",
    "            index_clean +=1\n",
    "    return Corpus_filtre"
   ]
  },
  {
   "cell_type": "code",
   "execution_count": null,
   "metadata": {},
   "outputs": [],
   "source": [
    "def compte_frequences(liste_tokens):\n",
    "    \"\"\"Retourne une liste de tuples (token,occurence) triée dans l'ordre décroissant\"\"\"\n",
    "    compte = {}\n",
    "    for element in liste_tokens:\n",
    "        try: compte[element] += 1\n",
    "        except: compte[element] = 1\n",
    "    sorted_by_value = sorted(compte.items(), key=lambda kv: kv[1], reverse=True)\n",
    "    return sorted_by_value"
   ]
  },
  {
   "cell_type": "code",
   "execution_count": null,
   "metadata": {},
   "outputs": [],
   "source": [
    "# compte_frequence_AE contient pour chaque article un triplet de la forme : (URL, titre, (token , occurence du token))\n",
    "compte_frequence_AE = []\n",
    "for article in Corpus_AE_LDA_metadata:\n",
    "    compte_frequence_AE.append((article[0], article[1], compte_frequences(article[2])))"
   ]
  },
  {
   "cell_type": "code",
   "execution_count": null,
   "metadata": {},
   "outputs": [],
   "source": [
    "def find_string(string, string2 ='', double_check=False):\n",
    "    \"\"\"Chercher un token d'intérêt et retourner le triplet de compte_frequence_AE le cas échéant\"\"\"\n",
    "    articles_with_string = []\n",
    "    for article in compte_frequence_AE:\n",
    "        for element in article[2]:\n",
    "            if string == element[0]:\n",
    "                if double_check == True: #option pour vérifier la présence simultanée de 2 string dans le même texte\n",
    "                    for element in article[2] :\n",
    "                        if string2 == element[0]:\n",
    "                            articles_with_string.append((article))\n",
    "                            break\n",
    "                else : \n",
    "                    articles_with_string.append((article))\n",
    "                    break\n",
    "    return articles_with_string"
   ]
  },
  {
   "cell_type": "code",
   "execution_count": null,
   "metadata": {},
   "outputs": [],
   "source": [
    "test_string = find_string('baie_james', '', double_check=False)"
   ]
  },
  {
   "cell_type": "code",
   "execution_count": null,
   "metadata": {},
   "outputs": [],
   "source": [
    "for element in test_string:\n",
    "    print(element[1])"
   ]
  }
 ],
 "metadata": {
  "kernelspec": {
   "display_name": "Python 3",
   "language": "python",
   "name": "python3"
  },
  "language_info": {
   "codemirror_mode": {
    "name": "ipython",
    "version": 3
   },
   "file_extension": ".py",
   "mimetype": "text/x-python",
   "name": "python",
   "nbconvert_exporter": "python",
   "pygments_lexer": "ipython3",
   "version": "3.6.8"
  }
 },
 "nbformat": 4,
 "nbformat_minor": 2
}
